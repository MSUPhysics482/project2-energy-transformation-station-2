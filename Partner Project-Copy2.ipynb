{
 "cells": [
  {
   "cell_type": "code",
   "execution_count": 7,
   "metadata": {
    "collapsed": false
   },
   "outputs": [
    {
     "name": "stdout",
     "output_type": "stream",
     "text": [
      "2.8728e+33\n"
     ]
    }
   ],
   "source": [
    "import matplotlib.pyplot as plt\n",
    "import numpy as np\n",
    "import pylab\n",
    "E_sec=3.8*10**(26) #amont of energy from the sun in a second\n",
    "A=3.8*10**(26)*60*60*12*175 #amount of energy from the sun per year in Lansing. Lansing has on average 175 days of sun. The sun is out for 12 hours on average per day\n",
    "print(A)"
   ]
  },
  {
   "cell_type": "code",
   "execution_count": 11,
   "metadata": {
    "collapsed": false
   },
   "outputs": [
    {
     "name": "stdout",
     "output_type": "stream",
     "text": [
      "89.7137922305\n"
     ]
    }
   ],
   "source": [
    "import matplotlib.pyplot as plt\n",
    "import numpy as np\n",
    "import pylab\n",
    "#assume light hits the outer atmosphere perpendicularly \n",
    "#Need snell's law \n",
    "#from article will use n=1.02cot(h+(10.3/(h+5.11)))\n",
    "h=10000 #height of outer atmosphere\n",
    "n=1.02*((np.cos(h+(10.3/(h+5.11))))/np.sin(h+(10.3/(h+5.11))))\n",
    "B=1*np.sin(90) #Left side of snell's law\n",
    "C=90-np.arcsin(B/n) #new angle of light\n",
    "print(C)"
   ]
  },
  {
   "cell_type": "code",
   "execution_count": 13,
   "metadata": {
    "collapsed": false
   },
   "outputs": [
    {
     "name": "stdout",
     "output_type": "stream",
     "text": [
      "89.8909191548\n"
     ]
    }
   ],
   "source": [
    "import matplotlib.pyplot as plt\n",
    "import numpy as np\n",
    "import pylab\n",
    "#assume light hits the outer atmosphere perpendicularly \n",
    "#Need snell's law \n",
    "#from article will use n=1.02cot(h+(10.3/(h+5.11)))\n",
    "h=10000 #height of outer atmosphere\n",
    "n=1.02*((np.cos(h+(10.3/(h+5.11))))/np.sin(h+(10.3/(h+5.11))))\n",
    "C=90-np.arcsin(B/n) #new angle of light\n",
    "D=n*np.sin(C) #Left side of snell's\n",
    "t=12 #height of tropsphere (lowest)\n",
    "m=1.02*((np.cos(t+(10.3/(t+5.11))))/np.sin(t+(10.3/(t+5.11))))\n",
    "E= 90-np.arcsin(D/m)#angle that originally perpendicular sunlight reaches the earth's surface\n",
    "print(E)"
   ]
  },
  {
   "cell_type": "code",
   "execution_count": null,
   "metadata": {
    "collapsed": true
   },
   "outputs": [],
   "source": []
  }
 ],
 "metadata": {
  "anaconda-cloud": {},
  "kernelspec": {
   "display_name": "Python [Root]",
   "language": "python",
   "name": "Python [Root]"
  },
  "language_info": {
   "codemirror_mode": {
    "name": "ipython",
    "version": 3
   },
   "file_extension": ".py",
   "mimetype": "text/x-python",
   "name": "python",
   "nbconvert_exporter": "python",
   "pygments_lexer": "ipython3",
   "version": "3.5.2"
  }
 },
 "nbformat": 4,
 "nbformat_minor": 0
}
